{
 "cells": [
  {
   "cell_type": "code",
   "execution_count": 1,
   "id": "64a05ef0",
   "metadata": {},
   "outputs": [
    {
     "name": "stderr",
     "output_type": "stream",
     "text": [
      "/Users/macbook/opt/anaconda3/lib/python3.9/site-packages/mpl_finance.py:16: DeprecationWarning: \n",
      "\n",
      "  =================================================================\n",
      "\n",
      "   WARNING: `mpl_finance` is deprecated:\n",
      "\n",
      "    Please use `mplfinance` instead (no hyphen, no underscore).\n",
      "\n",
      "    To install: `pip install --upgrade mplfinance` \n",
      "\n",
      "   For more information, see: https://pypi.org/project/mplfinance/\n",
      "\n",
      "  =================================================================\n",
      "\n",
      "  __warnings.warn('\\n\\n  ================================================================='+\n"
     ]
    }
   ],
   "source": [
    "import pandas as pd\n",
    "import numpy as np\n",
    "import yfinance as yf\n",
    "import matplotlib.dates as mpl_dates\n",
    "from mpl_finance import candlestick_ohlc\n",
    "import matplotlib.pyplot as plt\n",
    "plt.rcParams['figure.figsize'] = [12, 7]\n",
    "plt.rc('font', size=14)\n",
    "import ta\n"
   ]
  },
  {
   "cell_type": "code",
   "execution_count": 2,
   "id": "aab3a8bb",
   "metadata": {
    "scrolled": true
   },
   "outputs": [
    {
     "data": {
      "text/html": [
       "<div>\n",
       "<style scoped>\n",
       "    .dataframe tbody tr th:only-of-type {\n",
       "        vertical-align: middle;\n",
       "    }\n",
       "\n",
       "    .dataframe tbody tr th {\n",
       "        vertical-align: top;\n",
       "    }\n",
       "\n",
       "    .dataframe thead th {\n",
       "        text-align: right;\n",
       "    }\n",
       "</style>\n",
       "<table border=\"1\" class=\"dataframe\">\n",
       "  <thead>\n",
       "    <tr style=\"text-align: right;\">\n",
       "      <th></th>\n",
       "      <th>Date</th>\n",
       "      <th>Open</th>\n",
       "      <th>High</th>\n",
       "      <th>Low</th>\n",
       "      <th>Close</th>\n",
       "    </tr>\n",
       "    <tr>\n",
       "      <th>Datetime</th>\n",
       "      <th></th>\n",
       "      <th></th>\n",
       "      <th></th>\n",
       "      <th></th>\n",
       "      <th></th>\n",
       "    </tr>\n",
       "  </thead>\n",
       "  <tbody>\n",
       "    <tr>\n",
       "      <th>2022-07-31 19:30:00+00:00</th>\n",
       "      <td>19204.812500</td>\n",
       "      <td>23882.744141</td>\n",
       "      <td>23914.619141</td>\n",
       "      <td>23869.230469</td>\n",
       "      <td>23914.619141</td>\n",
       "    </tr>\n",
       "    <tr>\n",
       "      <th>2022-07-31 19:45:00+00:00</th>\n",
       "      <td>19204.822917</td>\n",
       "      <td>23903.181641</td>\n",
       "      <td>23903.181641</td>\n",
       "      <td>23863.697266</td>\n",
       "      <td>23863.697266</td>\n",
       "    </tr>\n",
       "    <tr>\n",
       "      <th>2022-07-31 20:00:00+00:00</th>\n",
       "      <td>19204.833333</td>\n",
       "      <td>23845.201172</td>\n",
       "      <td>23877.699219</td>\n",
       "      <td>23845.201172</td>\n",
       "      <td>23874.107422</td>\n",
       "    </tr>\n",
       "    <tr>\n",
       "      <th>2022-07-31 20:15:00+00:00</th>\n",
       "      <td>19204.843750</td>\n",
       "      <td>23877.345703</td>\n",
       "      <td>23877.345703</td>\n",
       "      <td>23824.312500</td>\n",
       "      <td>23824.312500</td>\n",
       "    </tr>\n",
       "    <tr>\n",
       "      <th>2022-07-31 20:30:00+00:00</th>\n",
       "      <td>19204.854167</td>\n",
       "      <td>23822.376953</td>\n",
       "      <td>23822.376953</td>\n",
       "      <td>23799.554688</td>\n",
       "      <td>23799.554688</td>\n",
       "    </tr>\n",
       "    <tr>\n",
       "      <th>...</th>\n",
       "      <td>...</td>\n",
       "      <td>...</td>\n",
       "      <td>...</td>\n",
       "      <td>...</td>\n",
       "      <td>...</td>\n",
       "    </tr>\n",
       "    <tr>\n",
       "      <th>2022-08-14 18:15:00+00:00</th>\n",
       "      <td>19218.760417</td>\n",
       "      <td>24263.564453</td>\n",
       "      <td>24274.566406</td>\n",
       "      <td>24251.496094</td>\n",
       "      <td>24274.566406</td>\n",
       "    </tr>\n",
       "    <tr>\n",
       "      <th>2022-08-14 18:30:00+00:00</th>\n",
       "      <td>19218.770833</td>\n",
       "      <td>24274.109375</td>\n",
       "      <td>24296.960938</td>\n",
       "      <td>24274.109375</td>\n",
       "      <td>24296.601562</td>\n",
       "    </tr>\n",
       "    <tr>\n",
       "      <th>2022-08-14 18:45:00+00:00</th>\n",
       "      <td>19218.781250</td>\n",
       "      <td>24296.404297</td>\n",
       "      <td>24297.718750</td>\n",
       "      <td>24290.873047</td>\n",
       "      <td>24293.988281</td>\n",
       "    </tr>\n",
       "    <tr>\n",
       "      <th>2022-08-14 19:00:00+00:00</th>\n",
       "      <td>19218.791667</td>\n",
       "      <td>24294.511719</td>\n",
       "      <td>24309.529297</td>\n",
       "      <td>24292.158203</td>\n",
       "      <td>24309.529297</td>\n",
       "    </tr>\n",
       "    <tr>\n",
       "      <th>2022-08-14 19:15:00+00:00</th>\n",
       "      <td>19218.802083</td>\n",
       "      <td>24314.423828</td>\n",
       "      <td>24322.357422</td>\n",
       "      <td>24281.494141</td>\n",
       "      <td>24292.503906</td>\n",
       "    </tr>\n",
       "  </tbody>\n",
       "</table>\n",
       "<p>1344 rows × 5 columns</p>\n",
       "</div>"
      ],
      "text/plain": [
       "                                   Date          Open          High  \\\n",
       "Datetime                                                              \n",
       "2022-07-31 19:30:00+00:00  19204.812500  23882.744141  23914.619141   \n",
       "2022-07-31 19:45:00+00:00  19204.822917  23903.181641  23903.181641   \n",
       "2022-07-31 20:00:00+00:00  19204.833333  23845.201172  23877.699219   \n",
       "2022-07-31 20:15:00+00:00  19204.843750  23877.345703  23877.345703   \n",
       "2022-07-31 20:30:00+00:00  19204.854167  23822.376953  23822.376953   \n",
       "...                                 ...           ...           ...   \n",
       "2022-08-14 18:15:00+00:00  19218.760417  24263.564453  24274.566406   \n",
       "2022-08-14 18:30:00+00:00  19218.770833  24274.109375  24296.960938   \n",
       "2022-08-14 18:45:00+00:00  19218.781250  24296.404297  24297.718750   \n",
       "2022-08-14 19:00:00+00:00  19218.791667  24294.511719  24309.529297   \n",
       "2022-08-14 19:15:00+00:00  19218.802083  24314.423828  24322.357422   \n",
       "\n",
       "                                    Low         Close  \n",
       "Datetime                                               \n",
       "2022-07-31 19:30:00+00:00  23869.230469  23914.619141  \n",
       "2022-07-31 19:45:00+00:00  23863.697266  23863.697266  \n",
       "2022-07-31 20:00:00+00:00  23845.201172  23874.107422  \n",
       "2022-07-31 20:15:00+00:00  23824.312500  23824.312500  \n",
       "2022-07-31 20:30:00+00:00  23799.554688  23799.554688  \n",
       "...                                 ...           ...  \n",
       "2022-08-14 18:15:00+00:00  24251.496094  24274.566406  \n",
       "2022-08-14 18:30:00+00:00  24274.109375  24296.601562  \n",
       "2022-08-14 18:45:00+00:00  24290.873047  24293.988281  \n",
       "2022-08-14 19:00:00+00:00  24292.158203  24309.529297  \n",
       "2022-08-14 19:15:00+00:00  24281.494141  24292.503906  \n",
       "\n",
       "[1344 rows x 5 columns]"
      ]
     },
     "execution_count": 2,
     "metadata": {},
     "output_type": "execute_result"
    }
   ],
   "source": [
    "ticker = 'BTC-USD'\n",
    "ticker = yf.Ticker(ticker)\n",
    "\n",
    "start_date = '2022-08-01'\n",
    "end_date =  '2022-08-15'\n",
    "\n",
    "df = ticker.history(interval='15m', start = start_date, end = end_date)\n",
    "df['Date'] = pd.to_datetime(df.index)\n",
    "df['Date'] = df['Date'].apply(mpl_dates.date2num)\n",
    "\n",
    "df = df.loc[:,['Date', 'Open', 'High', 'Low', 'Close']]\n",
    "df"
   ]
  },
  {
   "cell_type": "code",
   "execution_count": 3,
   "id": "a1c9d38e",
   "metadata": {},
   "outputs": [
    {
     "data": {
      "text/html": [
       "<div>\n",
       "<style scoped>\n",
       "    .dataframe tbody tr th:only-of-type {\n",
       "        vertical-align: middle;\n",
       "    }\n",
       "\n",
       "    .dataframe tbody tr th {\n",
       "        vertical-align: top;\n",
       "    }\n",
       "\n",
       "    .dataframe thead th {\n",
       "        text-align: right;\n",
       "    }\n",
       "</style>\n",
       "<table border=\"1\" class=\"dataframe\">\n",
       "  <thead>\n",
       "    <tr style=\"text-align: right;\">\n",
       "      <th></th>\n",
       "      <th>Date</th>\n",
       "      <th>Open</th>\n",
       "      <th>High</th>\n",
       "      <th>Low</th>\n",
       "      <th>Close</th>\n",
       "    </tr>\n",
       "    <tr>\n",
       "      <th>Datetime</th>\n",
       "      <th></th>\n",
       "      <th></th>\n",
       "      <th></th>\n",
       "      <th></th>\n",
       "      <th></th>\n",
       "    </tr>\n",
       "  </thead>\n",
       "  <tbody>\n",
       "    <tr>\n",
       "      <th>2022-07-31 19:30:00+00:00</th>\n",
       "      <td>19204.812500</td>\n",
       "      <td>23882.744141</td>\n",
       "      <td>23914.619141</td>\n",
       "      <td>23869.230469</td>\n",
       "      <td>23914.619141</td>\n",
       "    </tr>\n",
       "    <tr>\n",
       "      <th>2022-07-31 19:45:00+00:00</th>\n",
       "      <td>19204.822917</td>\n",
       "      <td>23903.181641</td>\n",
       "      <td>23903.181641</td>\n",
       "      <td>23863.697266</td>\n",
       "      <td>23863.697266</td>\n",
       "    </tr>\n",
       "    <tr>\n",
       "      <th>2022-07-31 20:00:00+00:00</th>\n",
       "      <td>19204.833333</td>\n",
       "      <td>23845.201172</td>\n",
       "      <td>23877.699219</td>\n",
       "      <td>23845.201172</td>\n",
       "      <td>23874.107422</td>\n",
       "    </tr>\n",
       "    <tr>\n",
       "      <th>2022-07-31 20:15:00+00:00</th>\n",
       "      <td>19204.843750</td>\n",
       "      <td>23877.345703</td>\n",
       "      <td>23877.345703</td>\n",
       "      <td>23824.312500</td>\n",
       "      <td>23824.312500</td>\n",
       "    </tr>\n",
       "    <tr>\n",
       "      <th>2022-07-31 20:30:00+00:00</th>\n",
       "      <td>19204.854167</td>\n",
       "      <td>23822.376953</td>\n",
       "      <td>23822.376953</td>\n",
       "      <td>23799.554688</td>\n",
       "      <td>23799.554688</td>\n",
       "    </tr>\n",
       "    <tr>\n",
       "      <th>...</th>\n",
       "      <td>...</td>\n",
       "      <td>...</td>\n",
       "      <td>...</td>\n",
       "      <td>...</td>\n",
       "      <td>...</td>\n",
       "    </tr>\n",
       "    <tr>\n",
       "      <th>2022-08-14 18:15:00+00:00</th>\n",
       "      <td>19218.760417</td>\n",
       "      <td>24263.564453</td>\n",
       "      <td>24274.566406</td>\n",
       "      <td>24251.496094</td>\n",
       "      <td>24274.566406</td>\n",
       "    </tr>\n",
       "    <tr>\n",
       "      <th>2022-08-14 18:30:00+00:00</th>\n",
       "      <td>19218.770833</td>\n",
       "      <td>24274.109375</td>\n",
       "      <td>24296.960938</td>\n",
       "      <td>24274.109375</td>\n",
       "      <td>24296.601562</td>\n",
       "    </tr>\n",
       "    <tr>\n",
       "      <th>2022-08-14 18:45:00+00:00</th>\n",
       "      <td>19218.781250</td>\n",
       "      <td>24296.404297</td>\n",
       "      <td>24297.718750</td>\n",
       "      <td>24290.873047</td>\n",
       "      <td>24293.988281</td>\n",
       "    </tr>\n",
       "    <tr>\n",
       "      <th>2022-08-14 19:00:00+00:00</th>\n",
       "      <td>19218.791667</td>\n",
       "      <td>24294.511719</td>\n",
       "      <td>24309.529297</td>\n",
       "      <td>24292.158203</td>\n",
       "      <td>24309.529297</td>\n",
       "    </tr>\n",
       "    <tr>\n",
       "      <th>2022-08-14 19:15:00+00:00</th>\n",
       "      <td>19218.802083</td>\n",
       "      <td>24314.423828</td>\n",
       "      <td>24322.357422</td>\n",
       "      <td>24281.494141</td>\n",
       "      <td>24292.503906</td>\n",
       "    </tr>\n",
       "  </tbody>\n",
       "</table>\n",
       "<p>1344 rows × 5 columns</p>\n",
       "</div>"
      ],
      "text/plain": [
       "                                   Date          Open          High  \\\n",
       "Datetime                                                              \n",
       "2022-07-31 19:30:00+00:00  19204.812500  23882.744141  23914.619141   \n",
       "2022-07-31 19:45:00+00:00  19204.822917  23903.181641  23903.181641   \n",
       "2022-07-31 20:00:00+00:00  19204.833333  23845.201172  23877.699219   \n",
       "2022-07-31 20:15:00+00:00  19204.843750  23877.345703  23877.345703   \n",
       "2022-07-31 20:30:00+00:00  19204.854167  23822.376953  23822.376953   \n",
       "...                                 ...           ...           ...   \n",
       "2022-08-14 18:15:00+00:00  19218.760417  24263.564453  24274.566406   \n",
       "2022-08-14 18:30:00+00:00  19218.770833  24274.109375  24296.960938   \n",
       "2022-08-14 18:45:00+00:00  19218.781250  24296.404297  24297.718750   \n",
       "2022-08-14 19:00:00+00:00  19218.791667  24294.511719  24309.529297   \n",
       "2022-08-14 19:15:00+00:00  19218.802083  24314.423828  24322.357422   \n",
       "\n",
       "                                    Low         Close  \n",
       "Datetime                                               \n",
       "2022-07-31 19:30:00+00:00  23869.230469  23914.619141  \n",
       "2022-07-31 19:45:00+00:00  23863.697266  23863.697266  \n",
       "2022-07-31 20:00:00+00:00  23845.201172  23874.107422  \n",
       "2022-07-31 20:15:00+00:00  23824.312500  23824.312500  \n",
       "2022-07-31 20:30:00+00:00  23799.554688  23799.554688  \n",
       "...                                 ...           ...  \n",
       "2022-08-14 18:15:00+00:00  24251.496094  24274.566406  \n",
       "2022-08-14 18:30:00+00:00  24274.109375  24296.601562  \n",
       "2022-08-14 18:45:00+00:00  24290.873047  24293.988281  \n",
       "2022-08-14 19:00:00+00:00  24292.158203  24309.529297  \n",
       "2022-08-14 19:15:00+00:00  24281.494141  24292.503906  \n",
       "\n",
       "[1344 rows x 5 columns]"
      ]
     },
     "execution_count": 3,
     "metadata": {},
     "output_type": "execute_result"
    }
   ],
   "source": [
    "df.astype('float64')"
   ]
  },
  {
   "cell_type": "code",
   "execution_count": 4,
   "id": "e38bf55f",
   "metadata": {},
   "outputs": [
    {
     "name": "stderr",
     "output_type": "stream",
     "text": [
      "/var/folders/fq/zgj_k1rx4sl0wk_hjxt78j3w0000gn/T/ipykernel_28473/647330685.py:43: UserWarning: Matplotlib is currently using module://matplotlib_inline.backend_inline, which is a non-GUI backend, so cannot show the figure.\n",
      "  fig.show()\n"
     ]
    },
    {
     "data": {
      "image/png": "[encoded data removed]",
      "text/plain": [
       "<Figure size 864x504 with 1 Axes>"
      ]
     },
     "metadata": {
      "needs_background": "light"
     },
     "output_type": "display_data"
    }
   ],
   "source": [
    "import datetime\n",
    "from pandas.io.formats.format import DataFrameFormatter\n",
    "\n",
    "\n",
    "\n",
    "def support_level(df, i):\n",
    "    support = df['Low'][i] < df['Low'][i - 1] and df['Low'][i] < df['Low'][i +1 ] and df['Low'][i + 1] < df['Low'][i + 2] and df['Low'][i - 1] < df['Low'][i -2]\n",
    "    return support\n",
    "\n",
    "\n",
    "def resistance_level(df, i):\n",
    "    resistance = df['High'][i] > df['High'][i - 1] and df['High'][i] > df['High'][i + 1] and df['High'][i + 1] > df['High'][i + 2] and df['High'][i - 1] > df['High'][i - 2]\n",
    "    return resistance\n",
    "\n",
    "    \n",
    "    \n",
    "levels = []\n",
    "level_types = []\n",
    "for i in range(2, df.shape[0] - 2):\n",
    "    if support_level(df, i):\n",
    "        levels.append((i, df['Low'][i]))\n",
    "        level_types.append(1)\n",
    "        \n",
    "    elif resistance_level(df, i):\n",
    "        levels.append((i, df['High'][i]))\n",
    "        level_types.append(0)\n",
    "        \n",
    "def plot_levels():\n",
    "    fig, ax = plt.subplots()\n",
    "    candlestick_ohlc(ax, df.values, width=0.6, colorup='green', colordown='red', alpha=0.8)\n",
    "    date_format = mpl_dates.DateFormatter('%d %b %Y')\n",
    "    ax.xaxis.set_major_formatter(date_format)\n",
    "    fig.autofmt_xdate()\n",
    "    \n",
    "    \n",
    "    for level, level_type in zip(levels, level_types):\n",
    "        plt.hlines(level[1],\n",
    "                  xmin = df['Date'][level[0]],\n",
    "                  xmax = max(df['Date']),\n",
    "                  colors = 'blue')\n",
    "        #plt.text(df['Date'][level[0]], level[1], (str(level_types) + \": \" + str(level[1] + \" \"), ha='right', va='center', fontweight='bold', fontsize='x-small'))\n",
    "        #plt.title('support & resistance lavels for ' + ticker_symbol, fontsize=24, fontweight='bold')\n",
    "        fig.show()\n",
    "        \n",
    "plot_levels()\n",
    "            "
   ]
  },
  {
   "cell_type": "code",
   "execution_count": 5,
   "id": "6baae6ae",
   "metadata": {},
   "outputs": [
    {
     "data": {
      "text/plain": [
       "Date     float64\n",
       "Open     float64\n",
       "High     float64\n",
       "Low      float64\n",
       "Close    float64\n",
       "dtype: object"
      ]
     },
     "execution_count": 5,
     "metadata": {},
     "output_type": "execute_result"
    }
   ],
   "source": [
    "df.dtypes"
   ]
  },
  {
   "cell_type": "code",
   "execution_count": 6,
   "id": "c05ddc98",
   "metadata": {},
   "outputs": [
    {
     "data": {
      "text/plain": [
       "<function __main__.resistance_level(df, i)>"
      ]
     },
     "execution_count": 6,
     "metadata": {},
     "output_type": "execute_result"
    }
   ],
   "source": [
    "resistance_level"
   ]
  },
  {
   "cell_type": "code",
   "execution_count": 7,
   "id": "c63f68f5",
   "metadata": {},
   "outputs": [
    {
     "data": {
      "text/html": [
       "<div>\n",
       "<style scoped>\n",
       "    .dataframe tbody tr th:only-of-type {\n",
       "        vertical-align: middle;\n",
       "    }\n",
       "\n",
       "    .dataframe tbody tr th {\n",
       "        vertical-align: top;\n",
       "    }\n",
       "\n",
       "    .dataframe thead th {\n",
       "        text-align: right;\n",
       "    }\n",
       "</style>\n",
       "<table border=\"1\" class=\"dataframe\">\n",
       "  <thead>\n",
       "    <tr style=\"text-align: right;\">\n",
       "      <th></th>\n",
       "      <th>Datetime</th>\n",
       "      <th>Date</th>\n",
       "      <th>Open</th>\n",
       "      <th>High</th>\n",
       "      <th>Low</th>\n",
       "      <th>Close</th>\n",
       "    </tr>\n",
       "  </thead>\n",
       "  <tbody>\n",
       "    <tr>\n",
       "      <th>0</th>\n",
       "      <td>2022-07-31 19:30:00+00:00</td>\n",
       "      <td>19204.812500</td>\n",
       "      <td>23882.744141</td>\n",
       "      <td>23914.619141</td>\n",
       "      <td>23869.230469</td>\n",
       "      <td>23914.619141</td>\n",
       "    </tr>\n",
       "    <tr>\n",
       "      <th>1</th>\n",
       "      <td>2022-07-31 19:45:00+00:00</td>\n",
       "      <td>19204.822917</td>\n",
       "      <td>23903.181641</td>\n",
       "      <td>23903.181641</td>\n",
       "      <td>23863.697266</td>\n",
       "      <td>23863.697266</td>\n",
       "    </tr>\n",
       "    <tr>\n",
       "      <th>2</th>\n",
       "      <td>2022-07-31 20:00:00+00:00</td>\n",
       "      <td>19204.833333</td>\n",
       "      <td>23845.201172</td>\n",
       "      <td>23877.699219</td>\n",
       "      <td>23845.201172</td>\n",
       "      <td>23874.107422</td>\n",
       "    </tr>\n",
       "    <tr>\n",
       "      <th>3</th>\n",
       "      <td>2022-07-31 20:15:00+00:00</td>\n",
       "      <td>19204.843750</td>\n",
       "      <td>23877.345703</td>\n",
       "      <td>23877.345703</td>\n",
       "      <td>23824.312500</td>\n",
       "      <td>23824.312500</td>\n",
       "    </tr>\n",
       "    <tr>\n",
       "      <th>4</th>\n",
       "      <td>2022-07-31 20:30:00+00:00</td>\n",
       "      <td>19204.854167</td>\n",
       "      <td>23822.376953</td>\n",
       "      <td>23822.376953</td>\n",
       "      <td>23799.554688</td>\n",
       "      <td>23799.554688</td>\n",
       "    </tr>\n",
       "    <tr>\n",
       "      <th>...</th>\n",
       "      <td>...</td>\n",
       "      <td>...</td>\n",
       "      <td>...</td>\n",
       "      <td>...</td>\n",
       "      <td>...</td>\n",
       "      <td>...</td>\n",
       "    </tr>\n",
       "    <tr>\n",
       "      <th>1339</th>\n",
       "      <td>2022-08-14 18:15:00+00:00</td>\n",
       "      <td>19218.760417</td>\n",
       "      <td>24263.564453</td>\n",
       "      <td>24274.566406</td>\n",
       "      <td>24251.496094</td>\n",
       "      <td>24274.566406</td>\n",
       "    </tr>\n",
       "    <tr>\n",
       "      <th>1340</th>\n",
       "      <td>2022-08-14 18:30:00+00:00</td>\n",
       "      <td>19218.770833</td>\n",
       "      <td>24274.109375</td>\n",
       "      <td>24296.960938</td>\n",
       "      <td>24274.109375</td>\n",
       "      <td>24296.601562</td>\n",
       "    </tr>\n",
       "    <tr>\n",
       "      <th>1341</th>\n",
       "      <td>2022-08-14 18:45:00+00:00</td>\n",
       "      <td>19218.781250</td>\n",
       "      <td>24296.404297</td>\n",
       "      <td>24297.718750</td>\n",
       "      <td>24290.873047</td>\n",
       "      <td>24293.988281</td>\n",
       "    </tr>\n",
       "    <tr>\n",
       "      <th>1342</th>\n",
       "      <td>2022-08-14 19:00:00+00:00</td>\n",
       "      <td>19218.791667</td>\n",
       "      <td>24294.511719</td>\n",
       "      <td>24309.529297</td>\n",
       "      <td>24292.158203</td>\n",
       "      <td>24309.529297</td>\n",
       "    </tr>\n",
       "    <tr>\n",
       "      <th>1343</th>\n",
       "      <td>2022-08-14 19:15:00+00:00</td>\n",
       "      <td>19218.802083</td>\n",
       "      <td>24314.423828</td>\n",
       "      <td>24322.357422</td>\n",
       "      <td>24281.494141</td>\n",
       "      <td>24292.503906</td>\n",
       "    </tr>\n",
       "  </tbody>\n",
       "</table>\n",
       "<p>1344 rows × 6 columns</p>\n",
       "</div>"
      ],
      "text/plain": [
       "                      Datetime          Date          Open          High  \\\n",
       "0    2022-07-31 19:30:00+00:00  19204.812500  23882.744141  23914.619141   \n",
       "1    2022-07-31 19:45:00+00:00  19204.822917  23903.181641  23903.181641   \n",
       "2    2022-07-31 20:00:00+00:00  19204.833333  23845.201172  23877.699219   \n",
       "3    2022-07-31 20:15:00+00:00  19204.843750  23877.345703  23877.345703   \n",
       "4    2022-07-31 20:30:00+00:00  19204.854167  23822.376953  23822.376953   \n",
       "...                        ...           ...           ...           ...   \n",
       "1339 2022-08-14 18:15:00+00:00  19218.760417  24263.564453  24274.566406   \n",
       "1340 2022-08-14 18:30:00+00:00  19218.770833  24274.109375  24296.960938   \n",
       "1341 2022-08-14 18:45:00+00:00  19218.781250  24296.404297  24297.718750   \n",
       "1342 2022-08-14 19:00:00+00:00  19218.791667  24294.511719  24309.529297   \n",
       "1343 2022-08-14 19:15:00+00:00  19218.802083  24314.423828  24322.357422   \n",
       "\n",
       "               Low         Close  \n",
       "0     23869.230469  23914.619141  \n",
       "1     23863.697266  23863.697266  \n",
       "2     23845.201172  23874.107422  \n",
       "3     23824.312500  23824.312500  \n",
       "4     23799.554688  23799.554688  \n",
       "...            ...           ...  \n",
       "1339  24251.496094  24274.566406  \n",
       "1340  24274.109375  24296.601562  \n",
       "1341  24290.873047  24293.988281  \n",
       "1342  24292.158203  24309.529297  \n",
       "1343  24281.494141  24292.503906  \n",
       "\n",
       "[1344 rows x 6 columns]"
      ]
     },
     "execution_count": 7,
     "metadata": {},
     "output_type": "execute_result"
    }
   ],
   "source": [
    "df.reset_index()"
   ]
  },
  {
   "cell_type": "code",
   "execution_count": 8,
   "id": "9f74a69c",
   "metadata": {},
   "outputs": [
    {
     "data": {
      "text/plain": [
       "Date     float64\n",
       "Open     float64\n",
       "High     float64\n",
       "Low      float64\n",
       "Close    float64\n",
       "dtype: object"
      ]
     },
     "execution_count": 8,
     "metadata": {},
     "output_type": "execute_result"
    }
   ],
   "source": [
    "df.dtypes"
   ]
  },
  {
   "cell_type": "code",
   "execution_count": 9,
   "id": "1fa04389",
   "metadata": {},
   "outputs": [
    {
     "name": "stderr",
     "output_type": "stream",
     "text": [
      "/var/folders/fq/zgj_k1rx4sl0wk_hjxt78j3w0000gn/T/ipykernel_28473/647330685.py:43: UserWarning: Matplotlib is currently using module://matplotlib_inline.backend_inline, which is a non-GUI backend, so cannot show the figure.\n",
      "  fig.show()\n"
     ]
    },
    {
     "name": "stdout",
     "output_type": "stream",
     "text": [
      "[(13, 23275.703125), (32, 23342.224609375), (44, 23196.669921875), (62, 22994.611328125), (74, 23454.7578125), (93, 22890.796875), (97, 22936.39453125), (99, 23057.212890625), (127, 22837.22265625), (144, 22778.6640625), (154, 22712.75390625), (183, 23406.29296875), (201, 23123.572265625), (259, 23578.02734375), (373, 22575.986328125), (385, 22487.90625), (406, 22645.244140625), (726, 24142.966796875), (735, 24039.91796875), (738, 24203.689453125), (756, 23877.5234375), (786, 23771.3828125), (792, 23821.724609375), (795, 23711.5078125), (943, 23960.138671875), (985, 24434.03515625), (990, 24251.029296875), (996, 24310.037109375), (1004, 24512.380859375), (1008, 24657.1953125), (1030, 24811.087890625), (1032, 24600.619140625), (1059, 24086.0625), (1120, 23657.265625), (1195, 24860.05078125), (1267, 24379.130859375), (1297, 24974.9140625), (1305, 24756.876953125)]\n"
     ]
    },
    {
     "data": {
      "image/png": "[encoded data removed]",
      "text/plain": [
       "<Figure size 864x504 with 1 Axes>"
      ]
     },
     "metadata": {
      "needs_background": "light"
     },
     "output_type": "display_data"
    }
   ],
   "source": [
    "mean = np.mean(df['High'] - df['Low'])\n",
    "mean\n",
    "\n",
    "def distance_from_level(x):\n",
    "    return np.sum([abs(x - y) < mean for y in levels]) == 0\n",
    "\n",
    "levels = []\n",
    "for i in range(2, df.shape[0] - 2):\n",
    "    if support_level(df, i):\n",
    "        x = df['Low'][i]\n",
    "        \n",
    "        if distance_from_level(x):\n",
    "            levels.append((i, x))\n",
    "            \n",
    "    elif resistance_level(df, i):\n",
    "        x = df['High'][i]\n",
    "        \n",
    "        if distance_from_level(x):\n",
    "             levels.append((i, x))\n",
    "        \n",
    "plot_levels()\n",
    "print(levels)\n",
    "            \n",
    "\n",
    "level_df = pd.DataFrame(levels)\n",
    "         "
   ]
  },
  {
   "cell_type": "code",
   "execution_count": 10,
   "id": "f3579166",
   "metadata": {},
   "outputs": [
    {
     "data": {
      "text/plain": [
       "0    38\n",
       "1    38\n",
       "dtype: int64"
      ]
     },
     "execution_count": 10,
     "metadata": {},
     "output_type": "execute_result"
    }
   ],
   "source": [
    "level_df.count()"
   ]
  },
  {
   "cell_type": "code",
   "execution_count": 11,
   "id": "18eca0b6",
   "metadata": {},
   "outputs": [
    {
     "data": {
      "text/plain": [
       "Date     float64\n",
       "Open     float64\n",
       "High     float64\n",
       "Low      float64\n",
       "Close    float64\n",
       "dtype: object"
      ]
     },
     "execution_count": 11,
     "metadata": {},
     "output_type": "execute_result"
    }
   ],
   "source": [
    "df.dtypes"
   ]
  },
  {
   "cell_type": "code",
   "execution_count": 12,
   "id": "085f788d",
   "metadata": {},
   "outputs": [],
   "source": [
    "atr_multiple = 2\n",
    "n = 20\n",
    "\n",
    "high_low = df['High'] - df['Low']\n",
    "high_close = np.abs(df['High'] - df['Close'].shift())\n",
    "low_close = np.abs(df['Low'] - df['Close'].shift())\n",
    "\n",
    "\n",
    "ranges = pd.concat([high_low, high_close, low_close], axis=1)\n",
    "true_range = np.max(ranges, axis=1)\n"
   ]
  },
  {
   "cell_type": "code",
   "execution_count": 13,
   "id": "2e3114a8",
   "metadata": {},
   "outputs": [],
   "source": [
    "df[['avehigh', 'avelow']] = df[['Open', 'Low']].rolling(n).mean()\n",
    "df['avemidprice'] = (df['avehigh'] + df['avelow']) / 2"
   ]
  },
  {
   "cell_type": "code",
   "execution_count": 14,
   "id": "f02c212e",
   "metadata": {},
   "outputs": [],
   "source": [
    "indicator_atr = ta.volatility.AverageTrueRange(df['High'], df['Low'], df['Close'], window=14, fillna=False)\n",
    "df['atr14'] = true_range.rolling(14).sum()/11\n",
    "\n",
    "df['UPB'] = df['avemidprice'] + atr_multiple * df['atr14']\n",
    "df['LPB'] = df['avemidprice'] - atr_multiple * df['atr14']"
   ]
  },
  {
   "cell_type": "code",
   "execution_count": 15,
   "id": "a3eed278",
   "metadata": {},
   "outputs": [],
   "source": [
    "df['rangemaxprice'] = df[['High']].rolling(n).max()\n",
    "df['rangeminprice'] = df[['High']].rolling(n).min()\n",
    "df['sideways'] = 0"
   ]
  },
  {
   "cell_type": "code",
   "execution_count": 16,
   "id": "85d1f8d5",
   "metadata": {},
   "outputs": [],
   "source": [
    "def sideways_range(maxp, minp, upb, lpb):\n",
    "    if maxp < upb and maxp > lpb and minp < upb and minp > lpb:\n",
    "        return 1\n",
    "    else:\n",
    "        return 0"
   ]
  },
  {
   "cell_type": "code",
   "execution_count": 17,
   "id": "e12919d9",
   "metadata": {},
   "outputs": [],
   "source": [
    "df['sideways'] = df[['rangemaxprice', 'rangeminprice', 'UPB', 'LPB']].apply(lambda x: sideways_range(x['rangemaxprice'], x['rangeminprice'], x['UPB'], x['LPB']), axis=1)\n"
   ]
  },
  {
   "cell_type": "code",
   "execution_count": 18,
   "id": "6c1fa7fd",
   "metadata": {},
   "outputs": [
    {
     "data": {
      "text/plain": [
       "Date             227\n",
       "Open             227\n",
       "High             227\n",
       "Low              227\n",
       "Close            227\n",
       "avehigh          227\n",
       "avelow           227\n",
       "avemidprice      227\n",
       "atr14            227\n",
       "UPB              227\n",
       "LPB              227\n",
       "rangemaxprice    227\n",
       "rangeminprice    227\n",
       "sideways         227\n",
       "dtype: int64"
      ]
     },
     "execution_count": 18,
     "metadata": {},
     "output_type": "execute_result"
    }
   ],
   "source": [
    "sideways_1 = df.loc[df['sideways'] == 1]\n",
    "#sideways_1.head()\n",
    "#print(sideways_1)\n",
    "sideways_1 = pd.DataFrame(sideways_1)\n",
    "sideways_1.count()\n"
   ]
  },
  {
   "cell_type": "code",
   "execution_count": 19,
   "id": "75f57fb0",
   "metadata": {},
   "outputs": [],
   "source": [
    "sideways_writer = pd.ExcelWriter('sideways.xlsx')"
   ]
  },
  {
   "cell_type": "code",
   "execution_count": 20,
   "id": "82d9e8e5",
   "metadata": {},
   "outputs": [
    {
     "ename": "ValueError",
     "evalue": "Excel does not support datetimes with timezones. Please ensure that datetimes are timezone unaware before writing to Excel.",
     "output_type": "error",
     "traceback": [
      "\u001b[0;31m---------------------------------------------------------------------------\u001b[0m",
      "\u001b[0;31mValueError\u001b[0m                                Traceback (most recent call last)",
      "Input \u001b[0;32mIn [20]\u001b[0m, in \u001b[0;36m<cell line: 1>\u001b[0;34m()\u001b[0m\n\u001b[0;32m----> 1\u001b[0m \u001b[43msideways_1\u001b[49m\u001b[38;5;241;43m.\u001b[39;49m\u001b[43mto_excel\u001b[49m\u001b[43m(\u001b[49m\u001b[43msideways_writer\u001b[49m\u001b[43m)\u001b[49m\n\u001b[1;32m      4\u001b[0m sideways_writer\u001b[38;5;241m.\u001b[39msave()\n\u001b[1;32m      5\u001b[0m \u001b[38;5;28mprint\u001b[39m(\u001b[38;5;124m\"\u001b[39m\u001b[38;5;124mDataFrame is exported successfully to Excel File.\u001b[39m\u001b[38;5;124m\"\u001b[39m)\n",
      "File \u001b[0;32m~/opt/anaconda3/lib/python3.9/site-packages/pandas/core/generic.py:2345\u001b[0m, in \u001b[0;36mNDFrame.to_excel\u001b[0;34m(self, excel_writer, sheet_name, na_rep, float_format, columns, header, index, index_label, startrow, startcol, engine, merge_cells, encoding, inf_rep, verbose, freeze_panes, storage_options)\u001b[0m\n\u001b[1;32m   2332\u001b[0m \u001b[38;5;28;01mfrom\u001b[39;00m \u001b[38;5;21;01mpandas\u001b[39;00m\u001b[38;5;21;01m.\u001b[39;00m\u001b[38;5;21;01mio\u001b[39;00m\u001b[38;5;21;01m.\u001b[39;00m\u001b[38;5;21;01mformats\u001b[39;00m\u001b[38;5;21;01m.\u001b[39;00m\u001b[38;5;21;01mexcel\u001b[39;00m \u001b[38;5;28;01mimport\u001b[39;00m ExcelFormatter\n\u001b[1;32m   2334\u001b[0m formatter \u001b[38;5;241m=\u001b[39m ExcelFormatter(\n\u001b[1;32m   2335\u001b[0m     df,\n\u001b[1;32m   2336\u001b[0m     na_rep\u001b[38;5;241m=\u001b[39mna_rep,\n\u001b[0;32m   (...)\u001b[0m\n\u001b[1;32m   2343\u001b[0m     inf_rep\u001b[38;5;241m=\u001b[39minf_rep,\n\u001b[1;32m   2344\u001b[0m )\n\u001b[0;32m-> 2345\u001b[0m \u001b[43mformatter\u001b[49m\u001b[38;5;241;43m.\u001b[39;49m\u001b[43mwrite\u001b[49m\u001b[43m(\u001b[49m\n\u001b[1;32m   2346\u001b[0m \u001b[43m    \u001b[49m\u001b[43mexcel_writer\u001b[49m\u001b[43m,\u001b[49m\n\u001b[1;32m   2347\u001b[0m \u001b[43m    \u001b[49m\u001b[43msheet_name\u001b[49m\u001b[38;5;241;43m=\u001b[39;49m\u001b[43msheet_name\u001b[49m\u001b[43m,\u001b[49m\n\u001b[1;32m   2348\u001b[0m \u001b[43m    \u001b[49m\u001b[43mstartrow\u001b[49m\u001b[38;5;241;43m=\u001b[39;49m\u001b[43mstartrow\u001b[49m\u001b[43m,\u001b[49m\n\u001b[1;32m   2349\u001b[0m \u001b[43m    \u001b[49m\u001b[43mstartcol\u001b[49m\u001b[38;5;241;43m=\u001b[39;49m\u001b[43mstartcol\u001b[49m\u001b[43m,\u001b[49m\n\u001b[1;32m   2350\u001b[0m \u001b[43m    \u001b[49m\u001b[43mfreeze_panes\u001b[49m\u001b[38;5;241;43m=\u001b[39;49m\u001b[43mfreeze_panes\u001b[49m\u001b[43m,\u001b[49m\n\u001b[1;32m   2351\u001b[0m \u001b[43m    \u001b[49m\u001b[43mengine\u001b[49m\u001b[38;5;241;43m=\u001b[39;49m\u001b[43mengine\u001b[49m\u001b[43m,\u001b[49m\n\u001b[1;32m   2352\u001b[0m \u001b[43m    \u001b[49m\u001b[43mstorage_options\u001b[49m\u001b[38;5;241;43m=\u001b[39;49m\u001b[43mstorage_options\u001b[49m\u001b[43m,\u001b[49m\n\u001b[1;32m   2353\u001b[0m \u001b[43m\u001b[49m\u001b[43m)\u001b[49m\n",
      "File \u001b[0;32m~/opt/anaconda3/lib/python3.9/site-packages/pandas/io/formats/excel.py:894\u001b[0m, in \u001b[0;36mExcelFormatter.write\u001b[0;34m(self, writer, sheet_name, startrow, startcol, freeze_panes, engine, storage_options)\u001b[0m\n\u001b[1;32m    891\u001b[0m     need_save \u001b[38;5;241m=\u001b[39m \u001b[38;5;28;01mTrue\u001b[39;00m\n\u001b[1;32m    893\u001b[0m \u001b[38;5;28;01mtry\u001b[39;00m:\n\u001b[0;32m--> 894\u001b[0m     \u001b[43mwriter\u001b[49m\u001b[38;5;241;43m.\u001b[39;49m\u001b[43mwrite_cells\u001b[49m\u001b[43m(\u001b[49m\n\u001b[1;32m    895\u001b[0m \u001b[43m        \u001b[49m\u001b[43mformatted_cells\u001b[49m\u001b[43m,\u001b[49m\n\u001b[1;32m    896\u001b[0m \u001b[43m        \u001b[49m\u001b[43msheet_name\u001b[49m\u001b[43m,\u001b[49m\n\u001b[1;32m    897\u001b[0m \u001b[43m        \u001b[49m\u001b[43mstartrow\u001b[49m\u001b[38;5;241;43m=\u001b[39;49m\u001b[43mstartrow\u001b[49m\u001b[43m,\u001b[49m\n\u001b[1;32m    898\u001b[0m \u001b[43m        \u001b[49m\u001b[43mstartcol\u001b[49m\u001b[38;5;241;43m=\u001b[39;49m\u001b[43mstartcol\u001b[49m\u001b[43m,\u001b[49m\n\u001b[1;32m    899\u001b[0m \u001b[43m        \u001b[49m\u001b[43mfreeze_panes\u001b[49m\u001b[38;5;241;43m=\u001b[39;49m\u001b[43mfreeze_panes\u001b[49m\u001b[43m,\u001b[49m\n\u001b[1;32m    900\u001b[0m \u001b[43m    \u001b[49m\u001b[43m)\u001b[49m\n\u001b[1;32m    901\u001b[0m \u001b[38;5;28;01mfinally\u001b[39;00m:\n\u001b[1;32m    902\u001b[0m     \u001b[38;5;66;03m# make sure to close opened file handles\u001b[39;00m\n\u001b[1;32m    903\u001b[0m     \u001b[38;5;28;01mif\u001b[39;00m need_save:\n",
      "File \u001b[0;32m~/opt/anaconda3/lib/python3.9/site-packages/pandas/io/excel/_xlsxwriter.py:227\u001b[0m, in \u001b[0;36mXlsxWriter.write_cells\u001b[0;34m(self, cells, sheet_name, startrow, startcol, freeze_panes)\u001b[0m\n\u001b[1;32m    224\u001b[0m \u001b[38;5;28;01mif\u001b[39;00m validate_freeze_panes(freeze_panes):\n\u001b[1;32m    225\u001b[0m     wks\u001b[38;5;241m.\u001b[39mfreeze_panes(\u001b[38;5;241m*\u001b[39m(freeze_panes))\n\u001b[0;32m--> 227\u001b[0m \u001b[38;5;28;01mfor\u001b[39;00m cell \u001b[38;5;129;01min\u001b[39;00m cells:\n\u001b[1;32m    228\u001b[0m     val, fmt \u001b[38;5;241m=\u001b[39m \u001b[38;5;28mself\u001b[39m\u001b[38;5;241m.\u001b[39m_value_with_fmt(cell\u001b[38;5;241m.\u001b[39mval)\n\u001b[1;32m    230\u001b[0m     stylekey \u001b[38;5;241m=\u001b[39m json\u001b[38;5;241m.\u001b[39mdumps(cell\u001b[38;5;241m.\u001b[39mstyle)\n",
      "File \u001b[0;32m~/opt/anaconda3/lib/python3.9/site-packages/pandas/io/formats/excel.py:832\u001b[0m, in \u001b[0;36mExcelFormatter.get_formatted_cells\u001b[0;34m(self)\u001b[0m\n\u001b[1;32m    830\u001b[0m \u001b[38;5;28;01mdef\u001b[39;00m \u001b[38;5;21mget_formatted_cells\u001b[39m(\u001b[38;5;28mself\u001b[39m) \u001b[38;5;241m-\u001b[39m\u001b[38;5;241m>\u001b[39m Iterable[ExcelCell]:\n\u001b[1;32m    831\u001b[0m     \u001b[38;5;28;01mfor\u001b[39;00m cell \u001b[38;5;129;01min\u001b[39;00m itertools\u001b[38;5;241m.\u001b[39mchain(\u001b[38;5;28mself\u001b[39m\u001b[38;5;241m.\u001b[39m_format_header(), \u001b[38;5;28mself\u001b[39m\u001b[38;5;241m.\u001b[39m_format_body()):\n\u001b[0;32m--> 832\u001b[0m         cell\u001b[38;5;241m.\u001b[39mval \u001b[38;5;241m=\u001b[39m \u001b[38;5;28;43mself\u001b[39;49m\u001b[38;5;241;43m.\u001b[39;49m\u001b[43m_format_value\u001b[49m\u001b[43m(\u001b[49m\u001b[43mcell\u001b[49m\u001b[38;5;241;43m.\u001b[39;49m\u001b[43mval\u001b[49m\u001b[43m)\u001b[49m\n\u001b[1;32m    833\u001b[0m         \u001b[38;5;28;01myield\u001b[39;00m cell\n",
      "File \u001b[0;32m~/opt/anaconda3/lib/python3.9/site-packages/pandas/io/formats/excel.py:547\u001b[0m, in \u001b[0;36mExcelFormatter._format_value\u001b[0;34m(self, val)\u001b[0m\n\u001b[1;32m    545\u001b[0m         val \u001b[38;5;241m=\u001b[39m \u001b[38;5;28mfloat\u001b[39m(\u001b[38;5;28mself\u001b[39m\u001b[38;5;241m.\u001b[39mfloat_format \u001b[38;5;241m%\u001b[39m val)\n\u001b[1;32m    546\u001b[0m \u001b[38;5;28;01mif\u001b[39;00m \u001b[38;5;28mgetattr\u001b[39m(val, \u001b[38;5;124m\"\u001b[39m\u001b[38;5;124mtzinfo\u001b[39m\u001b[38;5;124m\"\u001b[39m, \u001b[38;5;28;01mNone\u001b[39;00m) \u001b[38;5;129;01mis\u001b[39;00m \u001b[38;5;129;01mnot\u001b[39;00m \u001b[38;5;28;01mNone\u001b[39;00m:\n\u001b[0;32m--> 547\u001b[0m     \u001b[38;5;28;01mraise\u001b[39;00m \u001b[38;5;167;01mValueError\u001b[39;00m(\n\u001b[1;32m    548\u001b[0m         \u001b[38;5;124m\"\u001b[39m\u001b[38;5;124mExcel does not support datetimes with \u001b[39m\u001b[38;5;124m\"\u001b[39m\n\u001b[1;32m    549\u001b[0m         \u001b[38;5;124m\"\u001b[39m\u001b[38;5;124mtimezones. Please ensure that datetimes \u001b[39m\u001b[38;5;124m\"\u001b[39m\n\u001b[1;32m    550\u001b[0m         \u001b[38;5;124m\"\u001b[39m\u001b[38;5;124mare timezone unaware before writing to Excel.\u001b[39m\u001b[38;5;124m\"\u001b[39m\n\u001b[1;32m    551\u001b[0m     )\n\u001b[1;32m    552\u001b[0m \u001b[38;5;28;01mreturn\u001b[39;00m val\n",
      "\u001b[0;31mValueError\u001b[0m: Excel does not support datetimes with timezones. Please ensure that datetimes are timezone unaware before writing to Excel."
     ]
    }
   ],
   "source": [
    "sideways_1.to_excel(sideways_writer)\n",
    " \n",
    "\n",
    "sideways_writer.save()\n",
    "print(\"DataFrame is exported successfully to Excel File.\")\n"
   ]
  },
  {
   "cell_type": "code",
   "execution_count": null,
   "id": "71458a34",
   "metadata": {},
   "outputs": [],
   "source": []
  },
  {
   "cell_type": "code",
   "execution_count": null,
   "id": "0c35f548",
   "metadata": {},
   "outputs": [],
   "source": []
  }
 ],
 "metadata": {
  "kernelspec": {
   "display_name": "Python 3 (ipykernel)",
   "language": "python",
   "name": "python3"
  },
  "language_info": {
   "codemirror_mode": {
    "name": "ipython",
    "version": 3
   },
   "file_extension": ".py",
   "mimetype": "text/x-python",
   "name": "python",
   "nbconvert_exporter": "python",
   "pygments_lexer": "ipython3",
   "version": "3.9.12"
  }
 },
 "nbformat": 4,
 "nbformat_minor": 5
}
